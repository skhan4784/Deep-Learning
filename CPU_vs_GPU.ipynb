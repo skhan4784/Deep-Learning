{
 "cells": [
  {
   "cell_type": "code",
   "execution_count": 2,
   "id": "c376ec95",
   "metadata": {},
   "outputs": [],
   "source": [
    "import tensorflow as tf\n",
    "from tensorflow import keras\n",
    "import numpy as np\n"
   ]
  },
  {
   "cell_type": "code",
   "execution_count": 3,
   "id": "91d0b0a8",
   "metadata": {},
   "outputs": [
    {
     "data": {
      "text/plain": [
       "[PhysicalDevice(name='/physical_device:CPU:0', device_type='CPU'),\n",
       " PhysicalDevice(name='/physical_device:DML:0', device_type='DML'),\n",
       " PhysicalDevice(name='/physical_device:DML:1', device_type='DML')]"
      ]
     },
     "execution_count": 3,
     "metadata": {},
     "output_type": "execute_result"
    }
   ],
   "source": [
    "tf.config.experimental.list_physical_devices()"
   ]
  },
  {
   "cell_type": "code",
   "execution_count": 4,
   "id": "e00e8c65",
   "metadata": {},
   "outputs": [],
   "source": [
    "(x_train, y_train), (x_test, y_test) = tf.keras.datasets.cifar10.load_data()"
   ]
  },
  {
   "cell_type": "code",
   "execution_count": 5,
   "id": "e9a84bb1",
   "metadata": {},
   "outputs": [],
   "source": [
    "def plot_sample(index):\n",
    "    plt.figure(figsize = (10,1))\n",
    "    plt.imshow(x_train[index])"
   ]
  },
  {
   "cell_type": "code",
   "execution_count": 6,
   "id": "15adbbcf",
   "metadata": {},
   "outputs": [],
   "source": [
    "classes = [\"airplane\", \"automobile\", \"bird\", \"cat\", \"deer\", \"dog\", \"frog\", \"horse\", \"ship\", \"truck\"]"
   ]
  },
  {
   "cell_type": "code",
   "execution_count": 7,
   "id": "ef3f667c",
   "metadata": {},
   "outputs": [],
   "source": [
    "x_train_scalled = x_train/255\n",
    "x_test_scalled = x_test/255"
   ]
  },
  {
   "cell_type": "code",
   "execution_count": 8,
   "id": "4124121a",
   "metadata": {},
   "outputs": [
    {
     "data": {
      "text/plain": [
       "array([[0., 0., 0., 0., 0., 0., 1., 0., 0., 0.],\n",
       "       [0., 0., 0., 0., 0., 0., 0., 0., 0., 1.],\n",
       "       [0., 0., 0., 0., 0., 0., 0., 0., 0., 1.],\n",
       "       [0., 0., 0., 0., 1., 0., 0., 0., 0., 0.],\n",
       "       [0., 1., 0., 0., 0., 0., 0., 0., 0., 0.]], dtype=float32)"
      ]
     },
     "execution_count": 8,
     "metadata": {},
     "output_type": "execute_result"
    }
   ],
   "source": [
    "y_train_categorical = keras.utils.to_categorical(\n",
    "    y_train, num_classes = 10, dtype = \"float32\"\n",
    ")\n",
    "y_train_categorical[:5]"
   ]
  },
  {
   "cell_type": "code",
   "execution_count": 9,
   "id": "48bb46a6",
   "metadata": {},
   "outputs": [],
   "source": [
    "y_test_categorical = keras.utils.to_categorical(\n",
    "    y_test, num_classes = 10, dtype = \"float32\"\n",
    ")"
   ]
  },
  {
   "cell_type": "code",
   "execution_count": 10,
   "id": "c384f862",
   "metadata": {},
   "outputs": [
    {
     "name": "stdout",
     "output_type": "stream",
     "text": [
      "WARNING:tensorflow:From C:\\ProgramData\\Anaconda3\\envs\\tfradeon\\lib\\site-packages\\tensorflow_core\\python\\ops\\resource_variable_ops.py:1630: calling BaseResourceVariable.__init__ (from tensorflow.python.ops.resource_variable_ops) with constraint is deprecated and will be removed in a future version.\n",
      "Instructions for updating:\n",
      "If using Keras pass *_constraint arguments to layers.\n",
      "WARNING:tensorflow:From C:\\ProgramData\\Anaconda3\\envs\\tfradeon\\lib\\site-packages\\tensorflow_core\\python\\ops\\math_grad.py:1424: where (from tensorflow.python.ops.array_ops) is deprecated and will be removed in a future version.\n",
      "Instructions for updating:\n",
      "Use tf.where in 2.0, which has the same broadcast rule as np.where\n",
      "Train on 50000 samples\n",
      "Epoch 1/50\n",
      "50000/50000 [==============================] - 66s 1ms/sample - loss: 1.8560 - acc: 0.3356\n",
      "Epoch 2/50\n",
      "50000/50000 [==============================] - 63s 1ms/sample - loss: 1.6571 - acc: 0.4132\n",
      "Epoch 3/50\n",
      "50000/50000 [==============================] - 63s 1ms/sample - loss: 1.5687 - acc: 0.4455\n",
      "Epoch 4/50\n",
      "50000/50000 [==============================] - 63s 1ms/sample - loss: 1.5036 - acc: 0.4700\n",
      "Epoch 5/50\n",
      "50000/50000 [==============================] - 62s 1ms/sample - loss: 1.4561 - acc: 0.4860\n",
      "Epoch 6/50\n",
      "50000/50000 [==============================] - 63s 1ms/sample - loss: 1.4134 - acc: 0.5013\n",
      "Epoch 7/50\n",
      "50000/50000 [==============================] - 62s 1ms/sample - loss: 1.3717 - acc: 0.5164\n",
      "Epoch 8/50\n",
      "50000/50000 [==============================] - 63s 1ms/sample - loss: 1.3401 - acc: 0.5272\n",
      "Epoch 9/50\n",
      "50000/50000 [==============================] - 63s 1ms/sample - loss: 1.3064 - acc: 0.5398\n",
      "Epoch 10/50\n",
      "50000/50000 [==============================] - 63s 1ms/sample - loss: 1.2766 - acc: 0.5526\n",
      "Epoch 11/50\n",
      "50000/50000 [==============================] - 62s 1ms/sample - loss: 1.2465 - acc: 0.5638\n",
      "Epoch 12/50\n",
      "50000/50000 [==============================] - 63s 1ms/sample - loss: 1.2169 - acc: 0.5739\n",
      "Epoch 13/50\n",
      "50000/50000 [==============================] - 62s 1ms/sample - loss: 1.1903 - acc: 0.5839\n",
      "Epoch 14/50\n",
      "50000/50000 [==============================] - 62s 1ms/sample - loss: 1.1626 - acc: 0.5937\n",
      "Epoch 15/50\n",
      "50000/50000 [==============================] - 62s 1ms/sample - loss: 1.1366 - acc: 0.6016\n",
      "Epoch 16/50\n",
      "50000/50000 [==============================] - 62s 1ms/sample - loss: 1.1119 - acc: 0.6112\n",
      "Epoch 17/50\n",
      "50000/50000 [==============================] - 62s 1ms/sample - loss: 1.0842 - acc: 0.6223\n",
      "Epoch 18/50\n",
      "50000/50000 [==============================] - 62s 1ms/sample - loss: 1.0610 - acc: 0.6292\n",
      "Epoch 19/50\n",
      "50000/50000 [==============================] - 62s 1ms/sample - loss: 1.0367 - acc: 0.6397\n",
      "Epoch 20/50\n",
      "50000/50000 [==============================] - 62s 1ms/sample - loss: 1.0134 - acc: 0.6462\n",
      "Epoch 21/50\n",
      "50000/50000 [==============================] - 62s 1ms/sample - loss: 0.9875 - acc: 0.6545\n",
      "Epoch 22/50\n",
      "50000/50000 [==============================] - 62s 1ms/sample - loss: 0.9582 - acc: 0.6637\n",
      "Epoch 23/50\n",
      "50000/50000 [==============================] - 62s 1ms/sample - loss: 0.9383 - acc: 0.6746\n",
      "Epoch 24/50\n",
      "50000/50000 [==============================] - 62s 1ms/sample - loss: 0.9113 - acc: 0.6838\n",
      "Epoch 25/50\n",
      "50000/50000 [==============================] - 62s 1ms/sample - loss: 0.8851 - acc: 0.6939\n",
      "Epoch 26/50\n",
      "50000/50000 [==============================] - 62s 1ms/sample - loss: 0.8599 - acc: 0.7033\n",
      "Epoch 27/50\n",
      "50000/50000 [==============================] - 62s 1ms/sample - loss: 0.8380 - acc: 0.7115\n",
      "Epoch 28/50\n",
      "50000/50000 [==============================] - 62s 1ms/sample - loss: 0.8120 - acc: 0.7199\n",
      "Epoch 29/50\n",
      "50000/50000 [==============================] - 62s 1ms/sample - loss: 0.7860 - acc: 0.7290\n",
      "Epoch 30/50\n",
      "50000/50000 [==============================] - 62s 1ms/sample - loss: 0.7601 - acc: 0.7382\n",
      "Epoch 31/50\n",
      "50000/50000 [==============================] - 62s 1ms/sample - loss: 0.7380 - acc: 0.7475\n",
      "Epoch 32/50\n",
      "50000/50000 [==============================] - 62s 1ms/sample - loss: 0.7140 - acc: 0.7551\n",
      "Epoch 33/50\n",
      "50000/50000 [==============================] - 62s 1ms/sample - loss: 0.6894 - acc: 0.7666\n",
      "Epoch 34/50\n",
      "50000/50000 [==============================] - 62s 1ms/sample - loss: 0.6652 - acc: 0.7736\n",
      "Epoch 35/50\n",
      "50000/50000 [==============================] - 62s 1ms/sample - loss: 0.6436 - acc: 0.7839\n",
      "Epoch 36/50\n",
      "50000/50000 [==============================] - 62s 1ms/sample - loss: 0.6214 - acc: 0.7898\n",
      "Epoch 37/50\n",
      "50000/50000 [==============================] - 62s 1ms/sample - loss: 0.5923 - acc: 0.8003\n",
      "Epoch 38/50\n",
      "50000/50000 [==============================] - 62s 1ms/sample - loss: 0.5690 - acc: 0.8090\n",
      "Epoch 39/50\n",
      "50000/50000 [==============================] - 62s 1ms/sample - loss: 0.5485 - acc: 0.8172\n",
      "Epoch 40/50\n",
      "50000/50000 [==============================] - 62s 1ms/sample - loss: 0.5264 - acc: 0.8253\n",
      "Epoch 41/50\n",
      "50000/50000 [==============================] - 62s 1ms/sample - loss: 0.5004 - acc: 0.8341\n",
      "Epoch 42/50\n",
      "50000/50000 [==============================] - 62s 1ms/sample - loss: 0.4795 - acc: 0.8417\n",
      "Epoch 43/50\n",
      "50000/50000 [==============================] - 62s 1ms/sample - loss: 0.4608 - acc: 0.8489\n",
      "Epoch 44/50\n",
      "50000/50000 [==============================] - 62s 1ms/sample - loss: 0.4406 - acc: 0.8580\n",
      "Epoch 45/50\n",
      "50000/50000 [==============================] - 62s 1ms/sample - loss: 0.4207 - acc: 0.8642\n",
      "Epoch 46/50\n",
      "50000/50000 [==============================] - 62s 1ms/sample - loss: 0.4007 - acc: 0.8728\n",
      "Epoch 47/50\n",
      "50000/50000 [==============================] - 62s 1ms/sample - loss: 0.3825 - acc: 0.8775\n",
      "Epoch 48/50\n",
      "50000/50000 [==============================] - 62s 1ms/sample - loss: 0.3608 - acc: 0.8873\n",
      "Epoch 49/50\n",
      "50000/50000 [==============================] - 62s 1ms/sample - loss: 0.3427 - acc: 0.8943\n",
      "Epoch 50/50\n",
      "50000/50000 [==============================] - 62s 1ms/sample - loss: 0.3212 - acc: 0.9002\n"
     ]
    },
    {
     "data": {
      "text/plain": [
       "<tensorflow.python.keras.callbacks.History at 0x2891bee20c8>"
      ]
     },
     "execution_count": 10,
     "metadata": {},
     "output_type": "execute_result"
    }
   ],
   "source": [
    "model = keras.Sequential([\n",
    "    keras.layers.Flatten(input_shape = (32,32,3)),\n",
    "    keras.layers.Dense(3000, activation = \"relu\"),\n",
    "    keras.layers.Dense(1000, activation = \"relu\"),\n",
    "    keras.layers.Dense(10, activation = \"sigmoid\")\n",
    "])\n",
    "\n",
    "model.compile(\n",
    "    optimizer = \"SGD\",   #SGD = stochastic gradient descent\n",
    "    loss = \"categorical_crossentropy\", #used when one hot encoded output is there, use sparse_categorical_crossentropy for discrete values\n",
    "    metrics = [\"accuracy\"]\n",
    ")\n",
    "\n",
    "model.fit(x_train_scalled, y_train_categorical, epochs = 50)"
   ]
  },
  {
   "cell_type": "code",
   "execution_count": 11,
   "id": "60658634",
   "metadata": {},
   "outputs": [
    {
     "data": {
      "text/plain": [
       "6"
      ]
     },
     "execution_count": 11,
     "metadata": {},
     "output_type": "execute_result"
    }
   ],
   "source": [
    "np.argmax(model.predict(x_train_scalled)[0])"
   ]
  },
  {
   "cell_type": "code",
   "execution_count": 12,
   "id": "9a92c07d",
   "metadata": {},
   "outputs": [
    {
     "data": {
      "text/plain": [
       "'frog'"
      ]
     },
     "execution_count": 12,
     "metadata": {},
     "output_type": "execute_result"
    }
   ],
   "source": [
    "classes[y_train[0][0]]"
   ]
  },
  {
   "cell_type": "code",
   "execution_count": 16,
   "id": "1a65fb2e",
   "metadata": {},
   "outputs": [],
   "source": [
    "import matplotlib.pyplot as plt"
   ]
  },
  {
   "cell_type": "code",
   "execution_count": 17,
   "id": "cbb54710",
   "metadata": {},
   "outputs": [],
   "source": [
    "def plot_sample_test(index):\n",
    "    plt.figure(figsize = (10,1))\n",
    "    plt.imshow(x_test[index])"
   ]
  },
  {
   "cell_type": "code",
   "execution_count": 14,
   "id": "42de9c67",
   "metadata": {},
   "outputs": [
    {
     "data": {
      "text/plain": [
       "'cat'"
      ]
     },
     "execution_count": 14,
     "metadata": {},
     "output_type": "execute_result"
    }
   ],
   "source": [
    "classes[np.argmax(model.predict(x_test_scalled)[0])]"
   ]
  },
  {
   "cell_type": "code",
   "execution_count": 18,
   "id": "db34481e",
   "metadata": {},
   "outputs": [
    {
     "data": {
      "image/png": "[encoded data removed]",
      "text/plain": [
       "<Figure size 720x72 with 1 Axes>"
      ]
     },
     "metadata": {
      "needs_background": "light"
     },
     "output_type": "display_data"
    }
   ],
   "source": [
    "plot_sample_test(0)"
   ]
  },
  {
   "cell_type": "code",
   "execution_count": 19,
   "id": "ff709432",
   "metadata": {},
   "outputs": [],
   "source": [
    "def get_model():\n",
    "    model = keras.Sequential([\n",
    "        keras.layers.Flatten(input_shape = (32,32,3)),\n",
    "        keras.layers.Dense(3000, activation = \"relu\"),\n",
    "        keras.layers.Dense(1000, activation = \"relu\"),\n",
    "        keras.layers.Dense(10, activation = \"sigmoid\")\n",
    "    ])\n",
    "\n",
    "    model.compile(\n",
    "        optimizer = \"SGD\",   #SGD = stochastic gradient descent\n",
    "        loss = \"categorical_crossentropy\", #used when one hot encoded output is there, use sparse_categorical_crossentropy for discrete values\n",
    "        metrics = [\"accuracy\"]\n",
    "    )\n",
    "    return model"
   ]
  },
  {
   "cell_type": "code",
   "execution_count": 21,
   "id": "54d1a058",
   "metadata": {},
   "outputs": [
    {
     "name": "stdout",
     "output_type": "stream",
     "text": [
      "Train on 50000 samples\n",
      "50000/50000 [==============================] - 86s 2ms/sample - loss: 1.8589 - acc: 0.3355\n",
      "1min 26s ± 0 ns per loop (mean ± std. dev. of 1 run, 1 loop each)\n"
     ]
    }
   ],
   "source": [
    "%%timeit -n1 -r1\n",
    "with tf.device('/CPU:0'):\n",
    "    cpu_model = get_model()\n",
    "    cpu_model.fit(x_train_scalled, y_train_categorical, epochs = 1)"
   ]
  },
  {
   "cell_type": "code",
   "execution_count": 22,
   "id": "3841eca0",
   "metadata": {},
   "outputs": [
    {
     "name": "stdout",
     "output_type": "stream",
     "text": [
      "Train on 50000 samples\n",
      "50000/50000 [==============================] - 63s 1ms/sample - loss: 1.8668 - acc: 0.3317\n",
      "1min 5s ± 0 ns per loop (mean ± std. dev. of 1 run, 1 loop each)\n"
     ]
    }
   ],
   "source": [
    "%%timeit -n1 -r1\n",
    "with tf.device('/DML:0'):\n",
    "    cpu_model = get_model()\n",
    "    cpu_model.fit(x_train_scalled, y_train_categorical, epochs = 1)"
   ]
  },
  {
   "cell_type": "code",
   "execution_count": 23,
   "id": "6f68e186",
   "metadata": {},
   "outputs": [
    {
     "name": "stdout",
     "output_type": "stream",
     "text": [
      "Train on 50000 samples\n",
      "50000/50000 [==============================] - 103s 2ms/sample - loss: 1.8585 - acc: 0.3348\n",
      "1min 44s ± 0 ns per loop (mean ± std. dev. of 1 run, 1 loop each)\n"
     ]
    }
   ],
   "source": [
    "%%timeit -n1 -r1\n",
    "with tf.device('/DML:1'):\n",
    "    cpu_model = get_model()\n",
    "    cpu_model.fit(x_train_scalled, y_train_categorical, epochs = 1)"
   ]
  },
  {
   "cell_type": "code",
   "execution_count": 24,
   "id": "e41775f6",
   "metadata": {},
   "outputs": [
    {
     "name": "stdout",
     "output_type": "stream",
     "text": [
      "Train on 50000 samples\n",
      "50000/50000 [==============================] - 63s 1ms/sample - loss: 1.8651 - acc: 0.3326\n",
      "1min 5s ± 0 ns per loop (mean ± std. dev. of 1 run, 1 loop each)\n"
     ]
    }
   ],
   "source": [
    "%%timeit -n1 -r1\n",
    "with tf.device('/DML:0'):\n",
    "    cpu_model = get_model()\n",
    "    cpu_model.fit(x_train_scalled, y_train_categorical, epochs = 1)"
   ]
  },
  {
   "cell_type": "code",
   "execution_count": 25,
   "id": "cd058ba1",
   "metadata": {},
   "outputs": [
    {
     "name": "stdout",
     "output_type": "stream",
     "text": [
      "Train on 50000 samples\n",
      "50000/50000 [==============================] - 88s 2ms/sample - loss: 1.8635 - acc: 0.33470s - loss: 1.8635 - acc: 0\n",
      "1min 28s ± 0 ns per loop (mean ± std. dev. of 1 run, 1 loop each)\n"
     ]
    }
   ],
   "source": [
    "%%timeit -n1 -r1\n",
    "with tf.device('/DML:1'):\n",
    "    cpu_model = get_model()\n",
    "    cpu_model.fit(x_train_scalled, y_train_categorical, epochs = 1)"
   ]
  },
  {
   "cell_type": "code",
   "execution_count": 26,
   "id": "6e59862e",
   "metadata": {},
   "outputs": [
    {
     "ename": "AttributeError",
     "evalue": "module 'tensorflow._api.v1.config' has no attribute 'list_physical_devices'",
     "output_type": "error",
     "traceback": [
      "\u001b[1;31m---------------------------------------------------------------------------\u001b[0m",
      "\u001b[1;31mAttributeError\u001b[0m                            Traceback (most recent call last)",
      "\u001b[1;32m<ipython-input-26-a3c80e35911d>\u001b[0m in \u001b[0;36m<module>\u001b[1;34m\u001b[0m\n\u001b[1;32m----> 1\u001b[1;33m tf.config.list_physical_devices(\n\u001b[0m\u001b[0;32m      2\u001b[0m     \u001b[0mdevice_type\u001b[0m\u001b[1;33m=\u001b[0m\u001b[1;32mNone\u001b[0m\u001b[1;33m\u001b[0m\u001b[1;33m\u001b[0m\u001b[0m\n\u001b[0;32m      3\u001b[0m )\n",
      "\u001b[1;32mC:\\ProgramData\\Anaconda3\\envs\\tfradeon\\lib\\site-packages\\tensorflow_core\\python\\util\\module_wrapper.py\u001b[0m in \u001b[0;36m__getattr__\u001b[1;34m(self, name)\u001b[0m\n\u001b[0;32m    191\u001b[0m   \u001b[1;32mdef\u001b[0m \u001b[0m__getattr__\u001b[0m\u001b[1;33m(\u001b[0m\u001b[0mself\u001b[0m\u001b[1;33m,\u001b[0m \u001b[0mname\u001b[0m\u001b[1;33m)\u001b[0m\u001b[1;33m:\u001b[0m\u001b[1;33m\u001b[0m\u001b[1;33m\u001b[0m\u001b[0m\n\u001b[0;32m    192\u001b[0m     \u001b[1;32mtry\u001b[0m\u001b[1;33m:\u001b[0m\u001b[1;33m\u001b[0m\u001b[1;33m\u001b[0m\u001b[0m\n\u001b[1;32m--> 193\u001b[1;33m       \u001b[0mattr\u001b[0m \u001b[1;33m=\u001b[0m \u001b[0mgetattr\u001b[0m\u001b[1;33m(\u001b[0m\u001b[0mself\u001b[0m\u001b[1;33m.\u001b[0m\u001b[0m_tfmw_wrapped_module\u001b[0m\u001b[1;33m,\u001b[0m \u001b[0mname\u001b[0m\u001b[1;33m)\u001b[0m\u001b[1;33m\u001b[0m\u001b[1;33m\u001b[0m\u001b[0m\n\u001b[0m\u001b[0;32m    194\u001b[0m     \u001b[1;32mexcept\u001b[0m \u001b[0mAttributeError\u001b[0m\u001b[1;33m:\u001b[0m\u001b[1;33m\u001b[0m\u001b[1;33m\u001b[0m\u001b[0m\n\u001b[0;32m    195\u001b[0m       \u001b[1;32mif\u001b[0m \u001b[1;32mnot\u001b[0m \u001b[0mself\u001b[0m\u001b[1;33m.\u001b[0m\u001b[0m_tfmw_public_apis\u001b[0m\u001b[1;33m:\u001b[0m\u001b[1;33m\u001b[0m\u001b[1;33m\u001b[0m\u001b[0m\n",
      "\u001b[1;31mAttributeError\u001b[0m: module 'tensorflow._api.v1.config' has no attribute 'list_physical_devices'"
     ]
    }
   ],
   "source": [
    "tf.config.list_physical_devices(\n",
    "    device_type=None\n",
    ")"
   ]
  },
  {
   "cell_type": "code",
   "execution_count": 29,
   "id": "a2e38b2f",
   "metadata": {},
   "outputs": [
    {
     "data": {
      "text/plain": [
       "[PhysicalDevice(name='/physical_device:CPU:0', device_type='CPU'),\n",
       " PhysicalDevice(name='/physical_device:DML:0', device_type='DML'),\n",
       " PhysicalDevice(name='/physical_device:DML:1', device_type='DML')]"
      ]
     },
     "execution_count": 29,
     "metadata": {},
     "output_type": "execute_result"
    }
   ],
   "source": [
    "tf.config.experimental.list_physical_devices()"
   ]
  },
  {
   "cell_type": "code",
   "execution_count": null,
   "id": "de356a19",
   "metadata": {},
   "outputs": [],
   "source": []
  }
 ],
 "metadata": {
  "kernelspec": {
   "display_name": "tfradeon",
   "language": "python",
   "name": "tfradeon"
  },
  "language_info": {
   "codemirror_mode": {
    "name": "ipython",
    "version": 3
   },
   "file_extension": ".py",
   "mimetype": "text/x-python",
   "name": "python",
   "nbconvert_exporter": "python",
   "pygments_lexer": "ipython3",
   "version": "3.7.9"
  }
 },
 "nbformat": 4,
 "nbformat_minor": 5
}
