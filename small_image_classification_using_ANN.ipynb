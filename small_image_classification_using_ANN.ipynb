{
 "cells": [
  {
   "cell_type": "code",
   "execution_count": 1,
   "id": "6907b4df",
   "metadata": {},
   "outputs": [],
   "source": [
    "import tensorflow as tf\n",
    "from tensorflow import keras\n",
    "import matplotlib.pyplot as plt\n",
    "import numpy as np\n"
   ]
  },
  {
   "cell_type": "code",
   "execution_count": 2,
   "id": "9792dea1",
   "metadata": {},
   "outputs": [
    {
     "data": {
      "text/plain": [
       "[PhysicalDevice(name='/physical_device:CPU:0', device_type='CPU')]"
      ]
     },
     "execution_count": 2,
     "metadata": {},
     "output_type": "execute_result"
    }
   ],
   "source": [
    "tf.config.experimental.list_physical_devices()"
   ]
  },
  {
   "cell_type": "code",
   "execution_count": 3,
   "id": "caa70fd2",
   "metadata": {},
   "outputs": [
    {
     "data": {
      "text/plain": [
       "True"
      ]
     },
     "execution_count": 3,
     "metadata": {},
     "output_type": "execute_result"
    }
   ],
   "source": [
    "tf.test.is_built_with_cuda()"
   ]
  },
  {
   "cell_type": "code",
   "execution_count": 4,
   "id": "9cfd45e5",
   "metadata": {},
   "outputs": [
    {
     "name": "stdout",
     "output_type": "stream",
     "text": [
      "A local file was found, but it seems to be incomplete or outdated because the auto file hash does not match the original value of 6d958be074577803d12ecdefd02955f39262c83c16fe9348329d7fe0b5c001ce so we will re-download the data.\n",
      "Downloading data from https://www.cs.toronto.edu/~kriz/cifar-10-python.tar.gz\n",
      "170500096/170498071 [==============================] - 4599s 27us/step\n",
      "170508288/170498071 [==============================] - 4599s 27us/step\n"
     ]
    }
   ],
   "source": [
    "(x_train, y_train), (x_test, y_test) = tf.keras.datasets.cifar10.load_data()"
   ]
  },
  {
   "cell_type": "code",
   "execution_count": 5,
   "id": "bbf65192",
   "metadata": {},
   "outputs": [],
   "source": [
    "def plot_sample(index):\n",
    "    plt.figure(figsize = (10,1))\n",
    "    plt.imshow(x_train[index])"
   ]
  },
  {
   "cell_type": "code",
   "execution_count": 6,
   "id": "5b158a7e",
   "metadata": {},
   "outputs": [
    {
     "data": {
      "image/png": "[encoded data removed]",
      "text/plain": [
       "<Figure size 720x72 with 1 Axes>"
      ]
     },
     "metadata": {
      "needs_background": "light"
     },
     "output_type": "display_data"
    }
   ],
   "source": [
    "plot_sample(0)"
   ]
  },
  {
   "cell_type": "code",
   "execution_count": 8,
   "id": "1f7bd079",
   "metadata": {},
   "outputs": [
    {
     "data": {
      "text/plain": [
       "array([6], dtype=uint8)"
      ]
     },
     "execution_count": 8,
     "metadata": {},
     "output_type": "execute_result"
    }
   ],
   "source": [
    "y_train[0]"
   ]
  },
  {
   "cell_type": "code",
   "execution_count": 9,
   "id": "563dff1d",
   "metadata": {},
   "outputs": [],
   "source": [
    "classes = [\"airplane\", \"automobile\", \"bird\", \"cat\", \"deer\", \"dog\", \"frog\", \"horse\", \"ship\", \"truck\"]"
   ]
  },
  {
   "cell_type": "code",
   "execution_count": 10,
   "id": "fe34e675",
   "metadata": {},
   "outputs": [],
   "source": [
    "x_train_scalled = x_train/255\n",
    "x_test_scalled = x_test/255"
   ]
  },
  {
   "cell_type": "code",
   "execution_count": 14,
   "id": "68f191fa",
   "metadata": {},
   "outputs": [
    {
     "data": {
      "text/plain": [
       "array([[0., 0., 0., 0., 0., 0., 1., 0., 0., 0.],\n",
       "       [0., 0., 0., 0., 0., 0., 0., 0., 0., 1.],\n",
       "       [0., 0., 0., 0., 0., 0., 0., 0., 0., 1.],\n",
       "       [0., 0., 0., 0., 1., 0., 0., 0., 0., 0.],\n",
       "       [0., 1., 0., 0., 0., 0., 0., 0., 0., 0.]], dtype=float32)"
      ]
     },
     "execution_count": 14,
     "metadata": {},
     "output_type": "execute_result"
    }
   ],
   "source": [
    "# this is one hot encoding where instead of number 6 we created an array where sixth position is 1 and other positions are zero\n",
    "y_train_categorical = keras.utils.to_categorical(\n",
    "    y_train, num_classes = 10, dtype = \"float32\"\n",
    ")\n",
    "y_train_categorical[:5]"
   ]
  },
  {
   "cell_type": "code",
   "execution_count": 15,
   "id": "2ad48c65",
   "metadata": {},
   "outputs": [],
   "source": [
    "y_test_categorical = keras.utils.to_categorical(\n",
    "    y_test, num_classes = 10, dtype = \"float32\"\n",
    ")"
   ]
  },
  {
   "cell_type": "code",
   "execution_count": 20,
   "id": "559e034a",
   "metadata": {},
   "outputs": [
    {
     "name": "stdout",
     "output_type": "stream",
     "text": [
      "Epoch 1/50\n",
      "1563/1563 [==============================] - 83s 53ms/step - loss: 1.8155 - accuracy: 0.3551\n",
      "Epoch 2/50\n",
      "1563/1563 [==============================] - 75s 48ms/step - loss: 1.6249 - accuracy: 0.4275\n",
      "Epoch 3/50\n",
      "1563/1563 [==============================] - 107s 68ms/step - loss: 1.5409 - accuracy: 0.4574\n",
      "Epoch 4/50\n",
      "1563/1563 [==============================] - 57s 36ms/step - loss: 1.4846 - accuracy: 0.4776\n",
      "Epoch 5/50\n",
      "1563/1563 [==============================] - 57s 36ms/step - loss: 1.4313 - accuracy: 0.4953\n",
      "Epoch 6/50\n",
      "1563/1563 [==============================] - 57s 36ms/step - loss: 1.3924 - accuracy: 0.5115\n",
      "Epoch 7/50\n",
      "1563/1563 [==============================] - 58s 37ms/step - loss: 1.3537 - accuracy: 0.5228\n",
      "Epoch 8/50\n",
      "1563/1563 [==============================] - 59s 37ms/step - loss: 1.3185 - accuracy: 0.5360\n",
      "Epoch 9/50\n",
      "1563/1563 [==============================] - 60s 38ms/step - loss: 1.2849 - accuracy: 0.5490\n",
      "Epoch 10/50\n",
      "1563/1563 [==============================] - 59s 38ms/step - loss: 1.2555 - accuracy: 0.5586\n",
      "Epoch 11/50\n",
      "1563/1563 [==============================] - 58s 37ms/step - loss: 1.2261 - accuracy: 0.5699\n",
      "Epoch 12/50\n",
      "1563/1563 [==============================] - 59s 38ms/step - loss: 1.1979 - accuracy: 0.5806\n",
      "Epoch 13/50\n",
      "1563/1563 [==============================] - 58s 37ms/step - loss: 1.1706 - accuracy: 0.5902\n",
      "Epoch 14/50\n",
      "1563/1563 [==============================] - 58s 37ms/step - loss: 1.1436 - accuracy: 0.6017\n",
      "Epoch 15/50\n",
      "1563/1563 [==============================] - 57s 37ms/step - loss: 1.1153 - accuracy: 0.6111\n",
      "Epoch 16/50\n",
      "1563/1563 [==============================] - 59s 37ms/step - loss: 1.0886 - accuracy: 0.6187\n",
      "Epoch 17/50\n",
      "1563/1563 [==============================] - 59s 38ms/step - loss: 1.0644 - accuracy: 0.6293\n",
      "Epoch 18/50\n",
      "1563/1563 [==============================] - 58s 37ms/step - loss: 1.0370 - accuracy: 0.6398\n",
      "Epoch 19/50\n",
      "1563/1563 [==============================] - 58s 37ms/step - loss: 1.0121 - accuracy: 0.6500\n",
      "Epoch 20/50\n",
      "1563/1563 [==============================] - 58s 37ms/step - loss: 0.9855 - accuracy: 0.6575\n",
      "Epoch 21/50\n",
      "1563/1563 [==============================] - 57s 37ms/step - loss: 0.9608 - accuracy: 0.6691\n",
      "Epoch 22/50\n",
      "1563/1563 [==============================] - 57s 37ms/step - loss: 0.9333 - accuracy: 0.6753\n",
      "Epoch 23/50\n",
      "1563/1563 [==============================] - 59s 37ms/step - loss: 0.9083 - accuracy: 0.6861\n",
      "Epoch 24/50\n",
      "1563/1563 [==============================] - 63s 41ms/step - loss: 0.8834 - accuracy: 0.6938\n",
      "Epoch 25/50\n",
      "1563/1563 [==============================] - 58s 37ms/step - loss: 0.8557 - accuracy: 0.7059\n",
      "Epoch 26/50\n",
      "1563/1563 [==============================] - 226s 145ms/step - loss: 0.8337 - accuracy: 0.7122\n",
      "Epoch 27/50\n",
      "1563/1563 [==============================] - 57s 37ms/step - loss: 0.8078 - accuracy: 0.7239\n",
      "Epoch 28/50\n",
      "1563/1563 [==============================] - 58s 37ms/step - loss: 0.7831 - accuracy: 0.7315\n",
      "Epoch 29/50\n",
      "1563/1563 [==============================] - 57s 37ms/step - loss: 0.7593 - accuracy: 0.7413\n",
      "Epoch 30/50\n",
      "1563/1563 [==============================] - 58s 37ms/step - loss: 0.7291 - accuracy: 0.7506\n",
      "Epoch 31/50\n",
      "1563/1563 [==============================] - 194s 124ms/step - loss: 0.7081 - accuracy: 0.7605\n",
      "Epoch 32/50\n",
      "1563/1563 [==============================] - 67s 43ms/step - loss: 0.6823 - accuracy: 0.7672\n",
      "Epoch 33/50\n",
      "1563/1563 [==============================] - 60s 39ms/step - loss: 0.6589 - accuracy: 0.7768\n",
      "Epoch 34/50\n",
      "1563/1563 [==============================] - 186s 119ms/step - loss: 0.6344 - accuracy: 0.7854\n",
      "Epoch 35/50\n",
      "1563/1563 [==============================] - 81s 51ms/step - loss: 0.6145 - accuracy: 0.7919\n",
      "Epoch 36/50\n",
      "1563/1563 [==============================] - 59s 38ms/step - loss: 0.5856 - accuracy: 0.8031\n",
      "Epoch 37/50\n",
      "1563/1563 [==============================] - 3163s 2s/step - loss: 0.5609 - accuracy: 0.8147\n",
      "Epoch 38/50\n",
      "1563/1563 [==============================] - 67s 43ms/step - loss: 0.5369 - accuracy: 0.8226\n",
      "Epoch 39/50\n",
      "1563/1563 [==============================] - 68s 43ms/step - loss: 0.5139 - accuracy: 0.8305\n",
      "Epoch 40/50\n",
      "1563/1563 [==============================] - 69s 44ms/step - loss: 0.4928 - accuracy: 0.8376\n",
      "Epoch 41/50\n",
      "1563/1563 [==============================] - 67s 43ms/step - loss: 0.4720 - accuracy: 0.8458\n",
      "Epoch 42/50\n",
      "1563/1563 [==============================] - 90s 57ms/step - loss: 0.4518 - accuracy: 0.8523\n",
      "Epoch 43/50\n",
      "1563/1563 [==============================] - 266s 170ms/step - loss: 0.4299 - accuracy: 0.8610\n",
      "Epoch 44/50\n",
      "1563/1563 [==============================] - 262s 168ms/step - loss: 0.4088 - accuracy: 0.8681\n",
      "Epoch 45/50\n",
      "1563/1563 [==============================] - 196s 126ms/step - loss: 0.3892 - accuracy: 0.8761\n",
      "Epoch 46/50\n",
      "1563/1563 [==============================] - 61s 39ms/step - loss: 0.3706 - accuracy: 0.8831\n",
      "Epoch 47/50\n",
      "1563/1563 [==============================] - 57s 37ms/step - loss: 0.3522 - accuracy: 0.8892\n",
      "Epoch 48/50\n",
      "1563/1563 [==============================] - 57s 36ms/step - loss: 0.3309 - accuracy: 0.8982\n",
      "Epoch 49/50\n",
      "1563/1563 [==============================] - 58s 37ms/step - loss: 0.3144 - accuracy: 0.9049\n",
      "Epoch 50/50\n",
      "1563/1563 [==============================] - 57s 37ms/step - loss: 0.2982 - accuracy: 0.9095\n"
     ]
    },
    {
     "data": {
      "text/plain": [
       "<keras.callbacks.History at 0x12b5edf5160>"
      ]
     },
     "execution_count": 20,
     "metadata": {},
     "output_type": "execute_result"
    }
   ],
   "source": [
    "model = keras.Sequential([\n",
    "    keras.layers.Flatten(input_shape = (32,32,3)),\n",
    "    keras.layers.Dense(3000, activation = \"relu\"),\n",
    "    keras.layers.Dense(1000, activation = \"relu\"),\n",
    "    keras.layers.Dense(10, activation = \"sigmoid\")\n",
    "])\n",
    "\n",
    "model.compile(\n",
    "    optimizer = \"SGD\",   #SGD = stochastic gradient descent\n",
    "    loss = \"categorical_crossentropy\", #used when one hot encoded output is there, use sparse_categorical_crossentropy for discrete values\n",
    "    metrics = [\"accuracy\"]\n",
    ")\n",
    "\n",
    "model.fit(x_train_scalled, y_train_categorical, epochs = 50)"
   ]
  },
  {
   "cell_type": "code",
   "execution_count": null,
   "id": "51a3aabf",
   "metadata": {},
   "outputs": [],
   "source": []
  }
 ],
 "metadata": {
  "kernelspec": {
   "display_name": "Python 3 (ipykernel)",
   "language": "python",
   "name": "python3"
  },
  "language_info": {
   "codemirror_mode": {
    "name": "ipython",
    "version": 3
   },
   "file_extension": ".py",
   "mimetype": "text/x-python",
   "name": "python",
   "nbconvert_exporter": "python",
   "pygments_lexer": "ipython3",
   "version": "3.9.7"
  }
 },
 "nbformat": 4,
 "nbformat_minor": 5
}
